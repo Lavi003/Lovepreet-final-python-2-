{
 "cells": [
  {
   "cell_type": "code",
   "execution_count": null,
   "id": "d6be9ce9-b7e0-4724-8156-21bb626a0318",
   "metadata": {},
   "outputs": [
    {
     "name": "stdout",
     "output_type": "stream",
     "text": [
      "Hotel Management Application\n",
      "1. Add room\n",
      "2. Delete room\n",
      "3. Display room details\n",
      "4. Allocate room\n",
      "5. Display room allocation details.\n",
      "6. Billing and Deallocation\n",
      "7. Save to file\n",
      "8. Display room from file\n",
      "9. Backup file\n",
      "0. Exit Application\n"
     ]
    },
    {
     "name": "stdin",
     "output_type": "stream",
     "text": [
      "Enter your choice: 1\n",
      "Enter room number: 10\n",
      "Enter room type(Luxury / Family room): luxury\n",
      "Enter room price: 800\n",
      "Enter room features: Audio speaker\n"
     ]
    },
    {
     "name": "stdout",
     "output_type": "stream",
     "text": [
      "Room added successfully!\n",
      "Hotel Management Application\n",
      "1. Add room\n",
      "2. Delete room\n",
      "3. Display room details\n",
      "4. Allocate room\n",
      "5. Display room allocation details.\n",
      "6. Billing and Deallocation\n",
      "7. Save to file\n",
      "8. Display room from file\n",
      "9. Backup file\n",
      "0. Exit Application\n"
     ]
    },
    {
     "name": "stdin",
     "output_type": "stream",
     "text": [
      "Enter your choice: 1\n",
      "Enter room number: 11\n",
      "Enter room type(Luxury / Family room): Family\n",
      "Enter room price: 700\n",
      "Enter room features: AC\n"
     ]
    },
    {
     "name": "stdout",
     "output_type": "stream",
     "text": [
      "Room added successfully!\n",
      "Hotel Management Application\n",
      "1. Add room\n",
      "2. Delete room\n",
      "3. Display room details\n",
      "4. Allocate room\n",
      "5. Display room allocation details.\n",
      "6. Billing and Deallocation\n",
      "7. Save to file\n",
      "8. Display room from file\n",
      "9. Backup file\n",
      "0. Exit Application\n"
     ]
    },
    {
     "name": "stdin",
     "output_type": "stream",
     "text": [
      "Enter your choice: 1\n",
      "Enter room number: 12\n",
      "Enter room type(Luxury / Family room): Luxury\n",
      "Enter room price: 850\n",
      "Enter room features: AC, PS5\n"
     ]
    },
    {
     "name": "stdout",
     "output_type": "stream",
     "text": [
      "Room added successfully!\n",
      "Hotel Management Application\n",
      "1. Add room\n",
      "2. Delete room\n",
      "3. Display room details\n",
      "4. Allocate room\n",
      "5. Display room allocation details.\n",
      "6. Billing and Deallocation\n",
      "7. Save to file\n",
      "8. Display room from file\n",
      "9. Backup file\n",
      "0. Exit Application\n"
     ]
    },
    {
     "name": "stdin",
     "output_type": "stream",
     "text": [
      "Enter your choice: 2\n",
      "Enter room number to delete: 12\n"
     ]
    },
    {
     "name": "stdout",
     "output_type": "stream",
     "text": [
      "Room deleted successfully!\n",
      "Hotel Management Application\n",
      "1. Add room\n",
      "2. Delete room\n",
      "3. Display room details\n",
      "4. Allocate room\n",
      "5. Display room allocation details.\n",
      "6. Billing and Deallocation\n",
      "7. Save to file\n",
      "8. Display room from file\n",
      "9. Backup file\n",
      "0. Exit Application\n"
     ]
    },
    {
     "name": "stdin",
     "output_type": "stream",
     "text": [
      "Enter your choice: 3\n"
     ]
    },
    {
     "name": "stdout",
     "output_type": "stream",
     "text": [
      " Room number: 10, Room type: luxury, Room feature: Audio speaker\n",
      " Room number: 11, Room type: Family, Room feature: AC\n",
      "Hotel Management Application\n",
      "1. Add room\n",
      "2. Delete room\n",
      "3. Display room details\n",
      "4. Allocate room\n",
      "5. Display room allocation details.\n",
      "6. Billing and Deallocation\n",
      "7. Save to file\n",
      "8. Display room from file\n",
      "9. Backup file\n",
      "0. Exit Application\n"
     ]
    },
    {
     "name": "stdin",
     "output_type": "stream",
     "text": [
      "Enter your choice: 4\n",
      "Enter room number to allocate: 11\n",
      "Enter customer name: Lovepreet Singh\n"
     ]
    },
    {
     "name": "stdout",
     "output_type": "stream",
     "text": [
      "Room allocated successfully!\n",
      "Hotel Management Application\n",
      "1. Add room\n",
      "2. Delete room\n",
      "3. Display room details\n",
      "4. Allocate room\n",
      "5. Display room allocation details.\n",
      "6. Billing and Deallocation\n",
      "7. Save to file\n",
      "8. Display room from file\n",
      "9. Backup file\n",
      "0. Exit Application\n"
     ]
    },
    {
     "name": "stdin",
     "output_type": "stream",
     "text": [
      "Enter your choice: 5\n"
     ]
    },
    {
     "name": "stdout",
     "output_type": "stream",
     "text": [
      "Room allocations status:\n",
      "Room Number: 10, Room type: luxury, Room Features: Audio speaker, Allocated: False, Customer Name: \n",
      "Room Number: 11, Room type: Family, Room Features: AC, Allocated: True, Customer Name: Lovepreet Singh\n",
      "Hotel Management Application\n",
      "1. Add room\n",
      "2. Delete room\n",
      "3. Display room details\n",
      "4. Allocate room\n",
      "5. Display room allocation details.\n",
      "6. Billing and Deallocation\n",
      "7. Save to file\n",
      "8. Display room from file\n",
      "9. Backup file\n",
      "0. Exit Application\n"
     ]
    },
    {
     "name": "stdin",
     "output_type": "stream",
     "text": [
      "Enter your choice: 6\n",
      "Enter room number for deallocate: 11\n",
      "Enter customer name: Lovepreet Singh\n",
      "Enter number of days stayed: 4\n"
     ]
    },
    {
     "name": "stdout",
     "output_type": "stream",
     "text": [
      "Bill amount: $2800.00\n",
      "Room deallocated successfully!\n",
      "Hotel Management Application\n",
      "1. Add room\n",
      "2. Delete room\n",
      "3. Display room details\n",
      "4. Allocate room\n",
      "5. Display room allocation details.\n",
      "6. Billing and Deallocation\n",
      "7. Save to file\n",
      "8. Display room from file\n",
      "9. Backup file\n",
      "0. Exit Application\n"
     ]
    },
    {
     "name": "stdin",
     "output_type": "stream",
     "text": [
      "Enter your choice: 7\n"
     ]
    },
    {
     "name": "stdout",
     "output_type": "stream",
     "text": [
      "Data saved to file successfully\n",
      "Hotel Management Application\n",
      "1. Add room\n",
      "2. Delete room\n",
      "3. Display room details\n",
      "4. Allocate room\n",
      "5. Display room allocation details.\n",
      "6. Billing and Deallocation\n",
      "7. Save to file\n",
      "8. Display room from file\n",
      "9. Backup file\n",
      "0. Exit Application\n"
     ]
    },
    {
     "name": "stdin",
     "output_type": "stream",
     "text": [
      "Enter your choice: 8\n"
     ]
    },
    {
     "name": "stdout",
     "output_type": "stream",
     "text": [
      "10, luxury, 800.0, Audio speaker, False\n",
      "11, Family, 700.0, AC, False\n",
      "\n",
      "Hotel Management Application\n",
      "1. Add room\n",
      "2. Delete room\n",
      "3. Display room details\n",
      "4. Allocate room\n",
      "5. Display room allocation details.\n",
      "6. Billing and Deallocation\n",
      "7. Save to file\n",
      "8. Display room from file\n",
      "9. Backup file\n",
      "0. Exit Application\n"
     ]
    },
    {
     "name": "stdin",
     "output_type": "stream",
     "text": [
      "Enter your choice: 9\n"
     ]
    },
    {
     "name": "stdout",
     "output_type": "stream",
     "text": [
      "Backup created successfully!\n",
      "Hotel Management Application\n",
      "1. Add room\n",
      "2. Delete room\n",
      "3. Display room details\n",
      "4. Allocate room\n",
      "5. Display room allocation details.\n",
      "6. Billing and Deallocation\n",
      "7. Save to file\n",
      "8. Display room from file\n",
      "9. Backup file\n",
      "0. Exit Application\n"
     ]
    }
   ],
   "source": [
    "rooms = []\n",
    "# 1. ADD function is a function for adding a room\n",
    "def add_room():\n",
    "    \"\"\"\n",
    "    This function add a room in a list\n",
    "    It checks to add the rooms its types, price and features.\n",
    "    \"\"\"\n",
    "    try:\n",
    "        room_number = int(input(\"Enter room number:\"))# user input to enter room number\n",
    "        room_type = input(\"Enter room type(Luxury / Family room):\")# user input to enter room type\n",
    "        price = float(input(\"Enter room price:\"))\n",
    "        room_features = input(\"Enter room features:\")\n",
    "        rooms.append({\"room_number\": room_number, \"room_type\": room_type, \"room_price\": price, \"room_features\": room_features, \"allocated\": False, \"customer_name\":\"\"})\n",
    "        print(\"Room added successfully!\")\n",
    "    except ValueError:\n",
    "        print(\"All fields are required\")\n",
    "        \n",
    "# 2. Delete function is a function for deleting a room\n",
    "def delete_room():\n",
    "    try:\n",
    "        room_number = int(input(\"Enter room number to delete:\"))\n",
    "        for room in rooms:\n",
    "            if room[\"room_number\"] == room_number:\n",
    "                rooms.remove(room) \n",
    "                print(\"Room deleted successfully!\")\n",
    "                return\n",
    "        print(\"Room not found\")\n",
    "    except ValueError:\n",
    "        print(\"Invalid input. Enter a valid number.\")\n",
    "\n",
    "# 3. Display function is a function for display room\n",
    "def display_room():\n",
    "    try:\n",
    "        if not rooms:\n",
    "            raise IndexError(\"No room record available\")\n",
    "        for room in rooms:\n",
    "            print(f\" Room number: {room['room_number']}, Room type: {room['room_type']}, Room feature: {room['room_features']}\")\n",
    "    except KeyError:\n",
    "        print(\"Invalid room data.\")\n",
    "\n",
    "# 4. Allocate function is used to allocate the room to the customer\n",
    "def allocate_room():\n",
    "    try:\n",
    "        room_number = int(input(\"Enter room number to allocate:\"))\n",
    "        customer_name = input(\"Enter customer name:\")\n",
    "        for room in rooms:\n",
    "            if room[\"room_number\"] == room_number and not room[\"allocated\"]:\n",
    "                room[\"allocated\"] = True\n",
    "                room[\"customer_name\"] = customer_name\n",
    "                print(\"Room allocated successfully!\")\n",
    "                return\n",
    "        print(\"Room not available or already allocated!\")\n",
    "    except ValueError:\n",
    "        print(\"Invalid input. Please enter a valid number.\")\n",
    "    except TypeError:\n",
    "        print(\"Room not found in the list.\")\n",
    "\n",
    "#5. Display allocation function is used to show the display allocation to customer\n",
    "def display_allocations():\n",
    "    try:\n",
    "        print(\"Room allocations status:\") \n",
    "        for room in rooms:\n",
    "            print(f\"Room Number: {room['room_number']}, Room type: {room['room_type']}, Room Features: {room['room_features']}, Allocated: {room['allocated']}, Customer Name: {room['customer_name']}\")\n",
    "    except IndexError:\n",
    "        print(\"No rooms available.\")\n",
    "    except KeyError:\n",
    "        print(\"Invalid room data. Please check the room details.\")\n",
    "\n",
    "def billing_deallocation():\n",
    "    try:\n",
    "        room_number = int(input(\"Enter room number for deallocate:\"))\n",
    "        customer_name = input(\"Enter customer name:\")\n",
    "        for room in rooms:\n",
    "            if room[\"room_number\"] == room_number and room[\"allocated\"] and room[\"customer_name\"] == customer_name:\n",
    "                stay_days = int(input(\"Enter number of days stayed:\"))\n",
    "                bill_amount = room[\"room_price\"]*stay_days\n",
    "                print(f\"Bill amount: ${bill_amount:.2f}\")\n",
    "                room[\"allocated\"] = False\n",
    "                room[\"customer_name\"] = \"\"\n",
    "                print(\"Room deallocated successfully!\")\n",
    "                return\n",
    "        print(\"Room allocated or not found\")\n",
    "    except ValueError:\n",
    "        print(\"Invalid input. Enter a valid room number\")\n",
    "    except TypeError:\n",
    "        print(\"Invalid input. Room number must be an integer\")\n",
    "    \n",
    "\n",
    "def save_to_file():\n",
    "    try:\n",
    "        with open(\"LHMS_Studentid764705931.txt\", \"w\") as f:\n",
    "            for room in rooms:\n",
    "                f.write(f\"{room['room_number']}, {room['room_type']}, {room['room_price']}, {room['room_features']}, {room['allocated']}\\n\")\n",
    "        print(\"Data saved to file successfully\")\n",
    "    except IOError:\n",
    "        print(\"Error saving to file!\")\n",
    "    except FileNotFoundError:\n",
    "        print(\"File not Found\")\n",
    "\n",
    "def show_from_file():\n",
    "    try:\n",
    "        with open(\"LHMS_Studentid764705931.txt\", \"r\") as file:\n",
    "            content = file.read()\n",
    "            if content:\n",
    "                print (content)\n",
    "            else:\n",
    "                print(\"File is empty!\")\n",
    "    except FileNotFoundError:\n",
    "        print(\"File not found!\")\n",
    "    except EOFerror:\n",
    "        print(\"End of File reached!\")\n",
    "\n",
    "def backup_file():\n",
    "    try:\n",
    "        with open(\"LHMS_Studentid764705931.txt\", \"r\") as file:\n",
    "           content = file.read()\n",
    "        with open(f\"LHMS_Studentid764705931.txt\", \"w\") as backup_file:\n",
    "            backup_file.write(content)\n",
    "        with open(\"LHMS_Studentid764705931.txt\", \"w\") as file:\n",
    "            file.write(\"\") \n",
    "        print(\"Backup created successfully!\")\n",
    "    except FilenotFoundError:\n",
    "        print(\"File not found\")\n",
    "    except IOError:\n",
    "        print(\"Error writiing to file!\")\n",
    "        \n",
    "\n",
    "def main():\n",
    "    while True:\n",
    "        try:\n",
    "            print(\"Hotel Management Application\")\n",
    "            print(\"1. Add room\")\n",
    "            print(\"2. Delete room\")\n",
    "            print(\"3. Display room details\")\n",
    "            print(\"4. Allocate room\")\n",
    "            print(\"5. Display room allocation details.\")\n",
    "            print(\"6. Billing and Deallocation\")\n",
    "            print(\"7. Save to file\")\n",
    "            print(\"8. Display room from file\")\n",
    "            print(\"9. Backup file\")\n",
    "            print(\"0. Exit Application\")\n",
    "            choice = input(\"Enter your choice:\")\n",
    "            if choice == \"1\":\n",
    "                add_room()\n",
    "            elif choice == \"2\":\n",
    "                delete_room()\n",
    "            elif choice == \"3\":\n",
    "                display_room()\n",
    "            elif choice == \"4\":\n",
    "                allocate_room()\n",
    "            elif choice == \"5\":\n",
    "                display_allocations()\n",
    "            elif choice == \"6\":\n",
    "                billing_deallocation()\n",
    "            elif choice == \"7\":\n",
    "                save_to_file()\n",
    "            elif choice == \"8\":\n",
    "                show_from_file()\n",
    "            elif choice == \"9\":\n",
    "                backup_file()\n",
    "            elif choice == \"0\":\n",
    "                break\n",
    "            else:\n",
    "                print(\"Invalid choice\")\n",
    "        except Exception as e:\n",
    "            print(f\"An error occurred: {e}\")\n",
    "\n",
    "if __name__ == \"__main__\":\n",
    "    main()"
   ]
  },
  {
   "cell_type": "code",
   "execution_count": null,
   "id": "72adc2ba-d6fe-40dc-86df-210c57618792",
   "metadata": {},
   "outputs": [],
   "source": []
  }
 ],
 "metadata": {
  "kernelspec": {
   "display_name": "Python 3 (ipykernel)",
   "language": "python",
   "name": "python3"
  },
  "language_info": {
   "codemirror_mode": {
    "name": "ipython",
    "version": 3
   },
   "file_extension": ".py",
   "mimetype": "text/x-python",
   "name": "python",
   "nbconvert_exporter": "python",
   "pygments_lexer": "ipython3",
   "version": "3.11.7"
  }
 },
 "nbformat": 4,
 "nbformat_minor": 5
}
